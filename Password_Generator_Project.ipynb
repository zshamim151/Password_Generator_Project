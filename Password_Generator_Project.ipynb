{
  "nbformat": 4,
  "nbformat_minor": 0,
  "metadata": {
    "colab": {
      "provenance": []
    },
    "kernelspec": {
      "name": "python3",
      "display_name": "Python 3"
    },
    "language_info": {
      "name": "python"
    }
  },
  "cells": [
    {
      "cell_type": "markdown",
      "source": [
        "**Python Password Generator**\n",
        "\n",
        "---\n",
        "**Shamim, Zahid Hasan**\n"
      ],
      "metadata": {
        "id": "MuMAKYUeWGyl"
      }
    },
    {
      "cell_type": "code",
      "execution_count": 1,
      "metadata": {
        "colab": {
          "base_uri": "https://localhost:8080/"
        },
        "id": "yg-iX-P20yon",
        "outputId": "14dd27f2-61b2-46c5-d0d5-b1b7e99cded5"
      },
      "outputs": [
        {
          "output_type": "stream",
          "name": "stdout",
          "text": [
            "Welcome to the password Generator Project\n",
            "How many leters Do you like in your password, Please Enter:\n",
            "5\n",
            "How many leters Do you like in your password, Please Enter:\n",
            "2\n",
            "How many leters Do you like in your password, Please Enter:\n",
            "3\n",
            "['t', 'e', 'E', 'n', 'h', ')', '(', ')', '4', '4']\n",
            "['4', '4', '(', 't', ')', 'h', 'e', ')', 'E', 'n']\n",
            "Your password is: 44(t)he)En\n"
          ]
        }
      ],
      "source": [
        "# I am going to start a password Generator Project.\n",
        "\n",
        "import random\n",
        "letters = ['a', 'b', 'c', 'd', 'e', 'f', 'g', 'h', 'i', 'j', 'k', 'l', 'm', 'n', 'o', 'p', 'q', 'r', 's', 't', 'u', 'v', 'w', 'x', 'y', 'z', 'A', 'B', 'C', 'D', 'E', 'F', 'G', 'H', 'I', 'J', 'K', 'L', 'M', 'N', 'O', 'P', 'Q', 'R', 'S', 'T', 'U', 'V', 'W', 'X', 'Y', 'Z']\n",
        "numbers = ['0', '1', '2', '3', '4', '5', '6', '7', '8', '9']\n",
        "symbols = ['!', '#', '$', '%', '&', '(', ')', '*', '+']\n",
        "print(\"Welcome to the password Generator Project\")\n",
        "Total_Number_of_letters =int (input(f\"How many leters Do you like in your password, Please Enter:\\n\"))\n",
        "Total_numbers = int (input(f\"How many leters Do you like in your password, Please Enter:\\n\"))\n",
        "Total_symbols= int (input(f\"How many leters Do you like in your password, Please Enter:\\n\"))\n",
        "\n",
        "#Two_ways\n",
        "# password= \" \"\n",
        "# #Ex, Total_Number_of_letters= 4  then, it does work like: 1-4\n",
        "# for char in range (1, Total_Number_of_letters + 1):\n",
        "#    password += random.choice(letters )\n",
        "\n",
        "# for char in range (1,Total_numbers+1):\n",
        "#     password += random.choice(numbers)\n",
        "\n",
        "# for char in range (1,Total_symbols+1):\n",
        "#    password += random.choice(symbols)\n",
        "\n",
        "# print(password)\n",
        "\n",
        "\n",
        "#Hard Level\n",
        "password_list = []\n",
        "\n",
        "for char in range(1, Total_Number_of_letters + 1):\n",
        "  password_list.append(random.choice(letters))\n",
        "\n",
        "for char in range(1, Total_symbols + 1):\n",
        "  password_list += random.choice(symbols)\n",
        "\n",
        "for char in range(1, Total_numbers + 1):\n",
        "  password_list += random.choice(numbers)\n",
        "\n",
        "print(password_list)\n",
        "random.shuffle(password_list)\n",
        "print(password_list)\n",
        "\n",
        "password = \"\"\n",
        "for char in password_list:\n",
        "  password += char\n",
        "\n",
        "print(f\"Your password is: {password}\")\n",
        "\n"
      ]
    }
  ]
}